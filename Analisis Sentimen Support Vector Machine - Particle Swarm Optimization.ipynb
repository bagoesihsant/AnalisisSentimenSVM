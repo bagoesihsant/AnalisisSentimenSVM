{
 "cells": [
  {
   "cell_type": "code",
   "execution_count": 1,
   "id": "fcc7a85b",
   "metadata": {},
   "outputs": [],
   "source": [
    "import numpy as np\n",
    "import pandas as pd"
   ]
  },
  {
   "cell_type": "code",
   "execution_count": 2,
   "id": "c03a7b75",
   "metadata": {},
   "outputs": [],
   "source": [
    "# Memuat Data\n",
    "df_data = pd.read_excel(\"D:/Bagoes/GitHub Repository/AnalisisSentimenSVM/Data/Data_Scraping_FemaleDaily_06032022_with_index.xlsx\")"
   ]
  },
  {
   "cell_type": "code",
   "execution_count": 3,
   "id": "cc1ccd90",
   "metadata": {},
   "outputs": [
    {
     "data": {
      "text/html": [
       "<div>\n",
       "<style scoped>\n",
       "    .dataframe tbody tr th:only-of-type {\n",
       "        vertical-align: middle;\n",
       "    }\n",
       "\n",
       "    .dataframe tbody tr th {\n",
       "        vertical-align: top;\n",
       "    }\n",
       "\n",
       "    .dataframe thead th {\n",
       "        text-align: right;\n",
       "    }\n",
       "</style>\n",
       "<table border=\"1\" class=\"dataframe\">\n",
       "  <thead>\n",
       "    <tr style=\"text-align: right;\">\n",
       "      <th></th>\n",
       "      <th>Unnamed: 0</th>\n",
       "      <th>reviewer</th>\n",
       "      <th>review</th>\n",
       "      <th>rating</th>\n",
       "      <th>sentimen</th>\n",
       "    </tr>\n",
       "  </thead>\n",
       "  <tbody>\n",
       "  </tbody>\n",
       "</table>\n",
       "</div>"
      ],
      "text/plain": [
       "Empty DataFrame\n",
       "Columns: [Unnamed: 0, reviewer, review, rating, sentimen]\n",
       "Index: []"
      ]
     },
     "execution_count": 3,
     "metadata": {},
     "output_type": "execute_result"
    }
   ],
   "source": [
    "# Menampilkan kolom Data\n",
    "df_data.head(0)"
   ]
  },
  {
   "cell_type": "code",
   "execution_count": 4,
   "id": "389c0cd9",
   "metadata": {},
   "outputs": [],
   "source": [
    "# Menghapus kolom data yang tidak digunakan\n",
    "df_data.drop([\"Unnamed: 0\"], axis=1, inplace=True)"
   ]
  },
  {
   "cell_type": "code",
   "execution_count": 5,
   "id": "db513e81",
   "metadata": {},
   "outputs": [
    {
     "data": {
      "text/html": [
       "<div>\n",
       "<style scoped>\n",
       "    .dataframe tbody tr th:only-of-type {\n",
       "        vertical-align: middle;\n",
       "    }\n",
       "\n",
       "    .dataframe tbody tr th {\n",
       "        vertical-align: top;\n",
       "    }\n",
       "\n",
       "    .dataframe thead th {\n",
       "        text-align: right;\n",
       "    }\n",
       "</style>\n",
       "<table border=\"1\" class=\"dataframe\">\n",
       "  <thead>\n",
       "    <tr style=\"text-align: right;\">\n",
       "      <th></th>\n",
       "      <th>reviewer</th>\n",
       "      <th>review</th>\n",
       "      <th>rating</th>\n",
       "      <th>sentimen</th>\n",
       "    </tr>\n",
       "  </thead>\n",
       "  <tbody>\n",
       "  </tbody>\n",
       "</table>\n",
       "</div>"
      ],
      "text/plain": [
       "Empty DataFrame\n",
       "Columns: [reviewer, review, rating, sentimen]\n",
       "Index: []"
      ]
     },
     "execution_count": 5,
     "metadata": {},
     "output_type": "execute_result"
    }
   ],
   "source": [
    "# Menampilkan kolom Data\n",
    "df_data.head(0)"
   ]
  },
  {
   "cell_type": "code",
   "execution_count": 6,
   "id": "0d1f7bbc",
   "metadata": {},
   "outputs": [
    {
     "name": "stdout",
     "output_type": "stream",
     "text": [
      "(2276, 4)\n"
     ]
    }
   ],
   "source": [
    "# Menampilkan jumlah data dan kolom\n",
    "print(df_data.shape)"
   ]
  },
  {
   "cell_type": "code",
   "execution_count": 7,
   "id": "688c18b2",
   "metadata": {},
   "outputs": [],
   "source": [
    "# Menghapus data tertentu dalam data\n",
    "df_data.drop(index=[41, 82, 119, 139, 199, 213, 216, 236, 243, 276, 278, 317, 351, 379, 407, 444, 608, 707, 886, 945, 946, 1047, 1052, 1076, 1099, 1101, 1126, 1133, 1135, 1149, 1155, 1279, 1419, 1506, 1522, 1535, 1573, 1591, 1611, 1664, 1689, 1725, 1736, 1745, 1756, 1821, 1851, 1870, 1890, 1894, 1906, 1907, 1922, 1956, 1985, 1998, 2141, 2170, 2194, 2197, 2241, 2249, 2258], inplace=True)"
   ]
  },
  {
   "cell_type": "code",
   "execution_count": 8,
   "id": "ab93351c",
   "metadata": {},
   "outputs": [
    {
     "name": "stdout",
     "output_type": "stream",
     "text": [
      "(2213, 4)\n"
     ]
    }
   ],
   "source": [
    "# Menampilkan Jumlah Data\n",
    "print(df_data.shape)"
   ]
  },
  {
   "cell_type": "markdown",
   "id": "65829c12",
   "metadata": {},
   "source": [
    "1. Inisialisasi Fungsi Praproses (Preprocessing)"
   ]
  },
  {
   "cell_type": "code",
   "execution_count": 9,
   "id": "10010d75",
   "metadata": {},
   "outputs": [],
   "source": [
    "# Fungsi untuk mengulang kata jika terdapat angka 2 dalam kata tersebut\n",
    "def extract_word_number(text):\n",
    "    extracted_char = \"\"\n",
    "    extra_char = \"\"\n",
    "    \n",
    "    # Check the text length\n",
    "    if len(text) > 1: \n",
    "        # Check if the string contain number 2 as a character\n",
    "        if \"2\" in text:\n",
    "            num_pos = text.index(\"2\")\n",
    "            # Check if theres another character after number 2 character\n",
    "            if len(text[(num_pos + 1):]) > 0:\n",
    "                extra_char = text[(num_pos + 1):]\n",
    "                extracted_char = [text[num] for num in range(num_pos)]\n",
    "                extracted_char = ''.join(extracted_char)\n",
    "                return text.replace(text, \"{0} {0}{1}\".format(extracted_char, extra_char))\n",
    "            else:\n",
    "                extra_char = \"\"\n",
    "                extracted_char = [text[num] for num in range(num_pos)]\n",
    "                extracted_char = ''.join(extracted_char)\n",
    "                return text.replace(text, \"{0} {0}{1}\".format(extracted_char, extra_char))\n",
    "        else:\n",
    "            return text\n",
    "    else:\n",
    "        return text"
   ]
  },
  {
   "cell_type": "code",
   "execution_count": 10,
   "id": "0e6eecf9",
   "metadata": {},
   "outputs": [],
   "source": [
    "# Fungsi untuk mengulang kata apabila ada angka 2 dalam bentuk superscript dalam kata\n",
    "def extract_word_superscript(text):\n",
    "    extracted_char = \"\"\n",
    "    extra_char = \"\"\n",
    "    \n",
    "    # Check the text length\n",
    "    if len(text) > 1: \n",
    "        # Check if the string contain number 2 as a character\n",
    "        if \"\\u00b2\" in text:\n",
    "            num_pos = text.index(\"\\u00b2\")\n",
    "            # Check if theres another character after number 2 character\n",
    "            if len(text[(num_pos + 1):]) > 0:\n",
    "                extra_char = text[(num_pos + 1):]\n",
    "                extracted_char = [text[num] for num in range(num_pos)]\n",
    "                extracted_char = ''.join(extracted_char)\n",
    "                return text.replace(text, \"{0} {0}{1}\".format(extracted_char, extra_char))\n",
    "            else:\n",
    "                extra_char = \"\"\n",
    "                extracted_char = [text[num] for num in range(num_pos)]\n",
    "                extracted_char = ''.join(extracted_char)\n",
    "                return text.replace(text, \"{0} {0}{1}\".format(extracted_char, extra_char))\n",
    "        else:\n",
    "            return text\n",
    "    else:\n",
    "        return text"
   ]
  },
  {
   "cell_type": "code",
   "execution_count": 11,
   "id": "035b116f",
   "metadata": {},
   "outputs": [],
   "source": [
    "# Fungsi untuk menyamakan kata makeup dalam kalimat\n",
    "def make_up_replace(text):\n",
    "    if \"make up\" in text:\n",
    "        return text.replace(\"make up\", \"makeup\")\n",
    "    elif \"make upin\" in text:\n",
    "        return text.replace(\"make upin\", \"makeup\")\n",
    "    elif \"make upnya\" in text:\n",
    "        return text.replace(\"make upnya\", \"makeup\")\n",
    "    elif \"make-up\" in text:\n",
    "        return text.replace(\"make-up\", \"makeup\")\n",
    "    elif \"dimakeup\" in text:\n",
    "        return text.replace(\"dimakeup\", \"makeup\")\n",
    "    elif \"dimakeupin\" in text:\n",
    "        return text.replace(\"dimakeupin\", \"makeup\")\n",
    "    elif \"makeupnya\" in text:\n",
    "        return text.replace(\"makeupnya\", \"makeup\")\n",
    "    elif \"makeupny\" in text:\n",
    "        return text.replace(\"makeupny\", \"makeup\")\n",
    "    elif \"makeupku\" in text:\n",
    "        return text.replace(\"makeupku\", \"makeup\")\n",
    "    elif \"mekap\" in text:\n",
    "        return text.replace(\"mekap\", \"makeup\")\n",
    "    elif \"makeuonya\" in text:\n",
    "        return text.replace(\"makeuonya\", \"makeup\")\n",
    "    else:\n",
    "        return text"
   ]
  },
  {
   "cell_type": "code",
   "execution_count": 12,
   "id": "0d364f45",
   "metadata": {},
   "outputs": [],
   "source": [
    "# Fungsi untuk menyamakan kata tzone dalam kalimat\n",
    "def t_zone_replace(text):\n",
    "    if \"t zone\" in text:\n",
    "        return text.replace(\"t zone\", \"tzone\")\n",
    "    elif \"t z\" in text:\n",
    "        return text.replace(\"t z\", \"tzone\")\n",
    "    elif \"t zonenya\" in text:\n",
    "        return text.replace(\"t zonenya\", \"tzone\")\n",
    "    else:\n",
    "        return text"
   ]
  },
  {
   "cell_type": "code",
   "execution_count": 13,
   "id": "61d38a12",
   "metadata": {},
   "outputs": [],
   "source": [
    "# Fungsi untuk menyamakan kata bbceam dalam kalimat\n",
    "def bb_cream_replace(text):\n",
    "    if \"bb cream\" in text:\n",
    "        return text.replace(\"bb cream\", \"bbcream\")\n",
    "    else:\n",
    "        return text    "
   ]
  },
  {
   "cell_type": "code",
   "execution_count": 14,
   "id": "233e3e13",
   "metadata": {},
   "outputs": [],
   "source": [
    "# Fungsi untuk menyamakan kata cccream dalam kalimat\n",
    "def cc_cream_replace(text):\n",
    "    if \"cc cream\" in text:\n",
    "        return text.replace(\"cc cream\", \"cccream\")\n",
    "    else:\n",
    "        return text    "
   ]
  },
  {
   "cell_type": "code",
   "execution_count": 15,
   "id": "5c55e849",
   "metadata": {},
   "outputs": [],
   "source": [
    "# Fungsi untuk menyamakan kata dceram dalam kalimat\n",
    "def dd_cream_replace(text):\n",
    "    if \"dd cream\" in text:\n",
    "        return text.replace(\"dd cream\", \"ddcream\")\n",
    "    else:\n",
    "        return text    "
   ]
  },
  {
   "cell_type": "code",
   "execution_count": 16,
   "id": "0ca1cdab",
   "metadata": {},
   "outputs": [],
   "source": [
    "# Fungsi untuk menyamakan kata touchup dalam kalimat\n",
    "def touch_up_replace(text):\n",
    "    if \"touch up\" in text:\n",
    "        return text.replace(\"touch up\", \"touchup\")\n",
    "    elif \"ngeretouch\" in text:\n",
    "        return text.replace(\"ngeretouch\", \"touchup\")\n",
    "    else:\n",
    "        return text"
   ]
  },
  {
   "cell_type": "code",
   "execution_count": 17,
   "id": "097fda29",
   "metadata": {},
   "outputs": [],
   "source": [
    "# Fungsi untuk menyamakan kata breakout dalam kalimat\n",
    "def break_out_replace(text):\n",
    "    if \"break out\" in text:\n",
    "        return text.replace(\"break out\", \"breakout\")\n",
    "    else:\n",
    "        return text"
   ]
  },
  {
   "cell_type": "code",
   "execution_count": 18,
   "id": "43f18f1f",
   "metadata": {},
   "outputs": [],
   "source": [
    "# Fungsi untuk menyamakan kata skincare dalam kalimat\n",
    "def skin_care_replace(text):\n",
    "    if \"skin care\" in text:\n",
    "        return text.replace(\"skin care\", \"skincare\")\n",
    "    else:\n",
    "        return text"
   ]
  },
  {
   "cell_type": "code",
   "execution_count": 19,
   "id": "b4c5e6d1",
   "metadata": {},
   "outputs": [],
   "source": [
    "# Fungsi untuk menyamakan kata sunscreen dalam kalimat\n",
    "def sun_screen_replace(text):\n",
    "    if \"sun screen\" in text:\n",
    "        return text.replace(\"sun screen\", \"sunscreen\")\n",
    "    elif \"sunscreenku\" in text:\n",
    "        return text.replace(\"sunscreenku\", \"sunscreen\")\n",
    "    else:\n",
    "        return text"
   ]
  },
  {
   "cell_type": "code",
   "execution_count": 20,
   "id": "e17f0e46",
   "metadata": {},
   "outputs": [],
   "source": [
    "# Fungsi untuk mengubah seluruh karakter dalam kalimat menjadi huruf kecil (lowercase)\n",
    "def case_folding(message):\n",
    "    return message.lower()"
   ]
  },
  {
   "cell_type": "code",
   "execution_count": 21,
   "id": "219f7dc0",
   "metadata": {},
   "outputs": [],
   "source": [
    "# Fungsi untuk menghapus tanda baca dalam kalimat\n",
    "def del_punctuation(message):\n",
    "    for punc in string.punctuation:\n",
    "        if punc in message:\n",
    "            message = message.replace(punc, ' ')\n",
    "    return message"
   ]
  },
  {
   "cell_type": "code",
   "execution_count": 22,
   "id": "dc1cc5d2",
   "metadata": {},
   "outputs": [],
   "source": [
    "# Fungsi untuk menghapus angka dalam kalimat\n",
    "def del_number(message):\n",
    "    regex = r'\\d+'\n",
    "    return ' '.join(re.sub(regex, \"\", message).split())"
   ]
  },
  {
   "cell_type": "code",
   "execution_count": 23,
   "id": "81aabdbc",
   "metadata": {},
   "outputs": [],
   "source": [
    "# Fungsi untuk menghapus emotikon dalam kalimat\n",
    "def del_emoticon(message):\n",
    "    return emoji.replace_emoji(message, replace=' ')"
   ]
  },
  {
   "cell_type": "code",
   "execution_count": 24,
   "id": "e422f649",
   "metadata": {},
   "outputs": [],
   "source": [
    "# Fungsi untuk menghapus kata dengan jumlah huruf yang lebih dari satu dan berdekatan \n",
    "def remove_repeated_char(text):\n",
    "    return re.sub(r'(\\w)\\1+', r'\\1', text)"
   ]
  },
  {
   "cell_type": "code",
   "execution_count": 25,
   "id": "35dfed3d",
   "metadata": {},
   "outputs": [],
   "source": [
    "# Fungsi untuk mengubah kata yang menggunakan angka untuk membuat kata berulang\n",
    "def replace_repeat_word_num(message):\n",
    "    split_msg = [word.replace(word, extract_word_number(word)) for word in message.split()]\n",
    "    return \" \".join(split_msg)"
   ]
  },
  {
   "cell_type": "code",
   "execution_count": 26,
   "id": "be77c69c",
   "metadata": {},
   "outputs": [],
   "source": [
    "# Fungsi untuk mengubah kata yang menggunakan angka dalam bentuk superscript untuk membuat kata berulang\n",
    "def replace_repeat_word_superscript(message):\n",
    "    split_msg = [word.replace(word, extract_word_superscript(word)) for word in message.split()]\n",
    "    return \" \".join(split_msg)"
   ]
  },
  {
   "cell_type": "code",
   "execution_count": 27,
   "id": "3bda0ac4",
   "metadata": {},
   "outputs": [],
   "source": [
    "# Fungsi untuk mengubah kata yang memiliki karakter yang sama dan berdekatan dengan jumlah lebih dari satu dalam kalimat\n",
    "def normalisasi_kata_redundan(message):\n",
    "    return remove_repeated_char(message)"
   ]
  },
  {
   "cell_type": "code",
   "execution_count": null,
   "id": "4300a125",
   "metadata": {},
   "outputs": [],
   "source": []
  }
 ],
 "metadata": {
  "kernelspec": {
   "display_name": "Python 3 (ipykernel)",
   "language": "python",
   "name": "python3"
  },
  "language_info": {
   "codemirror_mode": {
    "name": "ipython",
    "version": 3
   },
   "file_extension": ".py",
   "mimetype": "text/x-python",
   "name": "python",
   "nbconvert_exporter": "python",
   "pygments_lexer": "ipython3",
   "version": "3.8.10"
  }
 },
 "nbformat": 4,
 "nbformat_minor": 5
}
