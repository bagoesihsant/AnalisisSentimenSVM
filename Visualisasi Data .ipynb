{
 "cells": [
  {
   "cell_type": "code",
   "execution_count": 1,
   "id": "408b8c25",
   "metadata": {},
   "outputs": [],
   "source": [
    "import pandas as pd\n",
    "import numpy as np\n",
    "import matplotlib.pyplot as plt\n",
    "import seaborn as sns\n",
    "import string\n",
    "import csv\n",
    "import emoji\n",
    "import re\n",
    "from wordcloud import WordCloud\n",
    "from sklearn.feature_extraction.text import CountVectorizer\n",
    "from Sastrawi.Stemmer.StemmerFactory import StemmerFactory\n",
    "from Sastrawi.StopWordRemover.StopWordRemoverFactory import StopWordRemoverFactory"
   ]
  },
  {
   "cell_type": "code",
   "execution_count": 2,
   "id": "9a4544e3",
   "metadata": {},
   "outputs": [],
   "source": [
    "df_data = pd.read_excel(\"Data_Scraping_FemaleDaily_06032022_with_index.xlsx\")"
   ]
  },
  {
   "cell_type": "code",
   "execution_count": 3,
   "id": "fc060596",
   "metadata": {
    "scrolled": true
   },
   "outputs": [
    {
     "data": {
      "text/html": [
       "<div>\n",
       "<style scoped>\n",
       "    .dataframe tbody tr th:only-of-type {\n",
       "        vertical-align: middle;\n",
       "    }\n",
       "\n",
       "    .dataframe tbody tr th {\n",
       "        vertical-align: top;\n",
       "    }\n",
       "\n",
       "    .dataframe thead th {\n",
       "        text-align: right;\n",
       "    }\n",
       "</style>\n",
       "<table border=\"1\" class=\"dataframe\">\n",
       "  <thead>\n",
       "    <tr style=\"text-align: right;\">\n",
       "      <th></th>\n",
       "      <th>Unnamed: 0</th>\n",
       "      <th>reviewer</th>\n",
       "      <th>review</th>\n",
       "      <th>rating</th>\n",
       "      <th>sentimen</th>\n",
       "    </tr>\n",
       "  </thead>\n",
       "  <tbody>\n",
       "    <tr>\n",
       "      <th>0</th>\n",
       "      <td>0</td>\n",
       "      <td>shafiranri</td>\n",
       "      <td>Membuat make up jadi tahan lama, membuat kulit...</td>\n",
       "      <td>5</td>\n",
       "      <td>positif</td>\n",
       "    </tr>\n",
       "    <tr>\n",
       "      <th>1</th>\n",
       "      <td>1</td>\n",
       "      <td>amaliaarumsari</td>\n",
       "      <td>primer yang hits banget, agak telat nyobainnya...</td>\n",
       "      <td>4</td>\n",
       "      <td>positif</td>\n",
       "    </tr>\n",
       "    <tr>\n",
       "      <th>2</th>\n",
       "      <td>2</td>\n",
       "      <td>maryamst</td>\n",
       "      <td>primer silikon based yang bikin wajah super sm...</td>\n",
       "      <td>5</td>\n",
       "      <td>positif</td>\n",
       "    </tr>\n",
       "    <tr>\n",
       "      <th>3</th>\n",
       "      <td>3</td>\n",
       "      <td>Virzqia</td>\n",
       "      <td>weewww yes banget buat produk satu ini. sangat...</td>\n",
       "      <td>5</td>\n",
       "      <td>positif</td>\n",
       "    </tr>\n",
       "    <tr>\n",
       "      <th>4</th>\n",
       "      <td>4</td>\n",
       "      <td>Aviyanti15</td>\n",
       "      <td>Primer makeup pertama yg aku punya dan cobain ...</td>\n",
       "      <td>4</td>\n",
       "      <td>positif</td>\n",
       "    </tr>\n",
       "  </tbody>\n",
       "</table>\n",
       "</div>"
      ],
      "text/plain": [
       "   Unnamed: 0        reviewer  \\\n",
       "0           0      shafiranri   \n",
       "1           1  amaliaarumsari   \n",
       "2           2        maryamst   \n",
       "3           3         Virzqia   \n",
       "4           4      Aviyanti15   \n",
       "\n",
       "                                              review  rating sentimen  \n",
       "0  Membuat make up jadi tahan lama, membuat kulit...       5  positif  \n",
       "1  primer yang hits banget, agak telat nyobainnya...       4  positif  \n",
       "2  primer silikon based yang bikin wajah super sm...       5  positif  \n",
       "3  weewww yes banget buat produk satu ini. sangat...       5  positif  \n",
       "4  Primer makeup pertama yg aku punya dan cobain ...       4  positif  "
      ]
     },
     "execution_count": 3,
     "metadata": {},
     "output_type": "execute_result"
    }
   ],
   "source": [
    "df_data.head()"
   ]
  },
  {
   "cell_type": "code",
   "execution_count": 4,
   "id": "15293797",
   "metadata": {},
   "outputs": [],
   "source": [
    "df_data.drop(index=[41, 82, 119, 139, 199, 213, 216, 236, 243, 276, 278, 317, 351, 379, 407, 444, 608, 707, 886, 945, 946, 1047, 1052, 1076, 1099, 1101, 1126, 1133, 1135, 1149, 1155, 1279, 1419, 1506, 1522, 1535, 1573, 1591, 1611, 1664, 1689, 1725, 1736, 1745, 1756, 1821, 1851, 1870, 1890, 1894, 1906, 1907, 1922, 1956, 1985, 1998, 2141, 2170, 2194, 2197, 2241, 2249, 2258], inplace=True)"
   ]
  },
  {
   "cell_type": "code",
   "execution_count": 5,
   "id": "9175fa7a",
   "metadata": {},
   "outputs": [
    {
     "data": {
      "text/html": [
       "<div>\n",
       "<style scoped>\n",
       "    .dataframe tbody tr th:only-of-type {\n",
       "        vertical-align: middle;\n",
       "    }\n",
       "\n",
       "    .dataframe tbody tr th {\n",
       "        vertical-align: top;\n",
       "    }\n",
       "\n",
       "    .dataframe thead th {\n",
       "        text-align: right;\n",
       "    }\n",
       "</style>\n",
       "<table border=\"1\" class=\"dataframe\">\n",
       "  <thead>\n",
       "    <tr style=\"text-align: right;\">\n",
       "      <th></th>\n",
       "      <th>Unnamed: 0</th>\n",
       "      <th>reviewer</th>\n",
       "      <th>review</th>\n",
       "      <th>rating</th>\n",
       "      <th>sentimen</th>\n",
       "    </tr>\n",
       "  </thead>\n",
       "  <tbody>\n",
       "    <tr>\n",
       "      <th>0</th>\n",
       "      <td>0</td>\n",
       "      <td>shafiranri</td>\n",
       "      <td>Membuat make up jadi tahan lama, membuat kulit...</td>\n",
       "      <td>5</td>\n",
       "      <td>positif</td>\n",
       "    </tr>\n",
       "    <tr>\n",
       "      <th>1</th>\n",
       "      <td>1</td>\n",
       "      <td>amaliaarumsari</td>\n",
       "      <td>primer yang hits banget, agak telat nyobainnya...</td>\n",
       "      <td>4</td>\n",
       "      <td>positif</td>\n",
       "    </tr>\n",
       "    <tr>\n",
       "      <th>2</th>\n",
       "      <td>2</td>\n",
       "      <td>maryamst</td>\n",
       "      <td>primer silikon based yang bikin wajah super sm...</td>\n",
       "      <td>5</td>\n",
       "      <td>positif</td>\n",
       "    </tr>\n",
       "    <tr>\n",
       "      <th>3</th>\n",
       "      <td>3</td>\n",
       "      <td>Virzqia</td>\n",
       "      <td>weewww yes banget buat produk satu ini. sangat...</td>\n",
       "      <td>5</td>\n",
       "      <td>positif</td>\n",
       "    </tr>\n",
       "    <tr>\n",
       "      <th>4</th>\n",
       "      <td>4</td>\n",
       "      <td>Aviyanti15</td>\n",
       "      <td>Primer makeup pertama yg aku punya dan cobain ...</td>\n",
       "      <td>4</td>\n",
       "      <td>positif</td>\n",
       "    </tr>\n",
       "  </tbody>\n",
       "</table>\n",
       "</div>"
      ],
      "text/plain": [
       "   Unnamed: 0        reviewer  \\\n",
       "0           0      shafiranri   \n",
       "1           1  amaliaarumsari   \n",
       "2           2        maryamst   \n",
       "3           3         Virzqia   \n",
       "4           4      Aviyanti15   \n",
       "\n",
       "                                              review  rating sentimen  \n",
       "0  Membuat make up jadi tahan lama, membuat kulit...       5  positif  \n",
       "1  primer yang hits banget, agak telat nyobainnya...       4  positif  \n",
       "2  primer silikon based yang bikin wajah super sm...       5  positif  \n",
       "3  weewww yes banget buat produk satu ini. sangat...       5  positif  \n",
       "4  Primer makeup pertama yg aku punya dan cobain ...       4  positif  "
      ]
     },
     "execution_count": 5,
     "metadata": {},
     "output_type": "execute_result"
    }
   ],
   "source": [
    "df_data.head()"
   ]
  },
  {
   "cell_type": "code",
   "execution_count": 6,
   "id": "194d823a",
   "metadata": {},
   "outputs": [],
   "source": [
    "nilai_negatif = df_data['sentimen'].value_counts()[0]\n",
    "nilai_positif = df_data['sentimen'].value_counts()[1]\n",
    "persen_negatif = round((nilai_negatif/df_data['sentimen'].count()), 2) * 100\n",
    "persen_positif = round((nilai_positif/df_data['sentimen'].count()), 2) * 100\n",
    "hasil = [persen_negatif, persen_positif]"
   ]
  },
  {
   "cell_type": "code",
   "execution_count": 7,
   "id": "0858f200",
   "metadata": {},
   "outputs": [
    {
     "data": {
      "image/png": "[encoded data removed]",
      "text/plain": [
       "<Figure size 1008x720 with 1 Axes>"
      ]
     },
     "metadata": {},
     "output_type": "display_data"
    }
   ],
   "source": [
    "plt.style.use('ggplot')\n",
    "fig, ax = plt.subplots(figsize=(14,10))\n",
    "ax.pie(hasil, labels=['Negatif', 'Positif'], shadow=True, autopct='%1.1f%%')\n",
    "ax.set_title('Perbandingan Jumlah Sentimen Positif dan Negatif')\n",
    "plt.show()"
   ]
  },
  {
   "cell_type": "code",
   "execution_count": 8,
   "id": "4c970434",
   "metadata": {},
   "outputs": [
    {
     "data": {
      "image/png": "[encoded data removed]",
      "text/plain": [
       "<Figure size 1008x720 with 1 Axes>"
      ]
     },
     "metadata": {},
     "output_type": "display_data"
    }
   ],
   "source": [
    "plt.style.use('ggplot')\n",
    "fig, ax = plt.subplots(figsize=(14,10))\n",
    "sns.countplot(x='sentimen', data=df_data)\n",
    "ax.set_title('Perbandingan Jumlah Positif dan Negatif')\n",
    "plt.savefig(\"perbandingan_positif_negatif.png\", bbox_inches=\"tight\", dpi=480)\n",
    "plt.show()"
   ]
  },
  {
   "cell_type": "code",
   "execution_count": 9,
   "id": "c94da89c",
   "metadata": {},
   "outputs": [],
   "source": [
    "# Fungsi untuk mengulang kata jika terdapat angka 2 dalam kata tersebut\n",
    "def extract_word_number(text):\n",
    "    extracted_char = \"\"\n",
    "    extra_char = \"\"\n",
    "    \n",
    "    # Check the text length\n",
    "    if len(text) > 1: \n",
    "        # Check if the string contain number 2 as a character\n",
    "        if \"2\" in text:\n",
    "            num_pos = text.index(\"2\")\n",
    "            # Check if theres another character after number 2 character\n",
    "            if len(text[(num_pos + 1):]) > 0:\n",
    "                extra_char = text[(num_pos + 1):]\n",
    "                extracted_char = [text[num] for num in range(num_pos)]\n",
    "                extracted_char = ''.join(extracted_char)\n",
    "                return text.replace(text, \"{0} {0}{1}\".format(extracted_char, extra_char))\n",
    "            else:\n",
    "                extra_char = \"\"\n",
    "                extracted_char = [text[num] for num in range(num_pos)]\n",
    "                extracted_char = ''.join(extracted_char)\n",
    "                return text.replace(text, \"{0} {0}{1}\".format(extracted_char, extra_char))\n",
    "        else:\n",
    "            return text\n",
    "    else:\n",
    "        return text"
   ]
  },
  {
   "cell_type": "code",
   "execution_count": 10,
   "id": "8dba6190",
   "metadata": {},
   "outputs": [],
   "source": [
    "# Fungsi untuk mengulang kata apabila ada angka 2 dalam bentuk superscript dalam kata\n",
    "def extract_word_superscript(text):\n",
    "    extracted_char = \"\"\n",
    "    extra_char = \"\"\n",
    "    \n",
    "    # Check the text length\n",
    "    if len(text) > 1: \n",
    "        # Check if the string contain number 2 as a character\n",
    "        if \"\\u00b2\" in text:\n",
    "            num_pos = text.index(\"\\u00b2\")\n",
    "            # Check if theres another character after number 2 character\n",
    "            if len(text[(num_pos + 1):]) > 0:\n",
    "                extra_char = text[(num_pos + 1):]\n",
    "                extracted_char = [text[num] for num in range(num_pos)]\n",
    "                extracted_char = ''.join(extracted_char)\n",
    "                return text.replace(text, \"{0} {0}{1}\".format(extracted_char, extra_char))\n",
    "            else:\n",
    "                extra_char = \"\"\n",
    "                extracted_char = [text[num] for num in range(num_pos)]\n",
    "                extracted_char = ''.join(extracted_char)\n",
    "                return text.replace(text, \"{0} {0}{1}\".format(extracted_char, extra_char))\n",
    "        else:\n",
    "            return text\n",
    "    else:\n",
    "        return text"
   ]
  },
  {
   "cell_type": "code",
   "execution_count": 11,
   "id": "b066346b",
   "metadata": {},
   "outputs": [],
   "source": [
    "# Fungsi untuk menyamakan kata makeup dalam kalimat\n",
    "def make_up_replace(text):\n",
    "    if \"make up\" in text:\n",
    "        return text.replace(\"make up\", \"makeup\")\n",
    "    elif \"make upin\" in text:\n",
    "        return text.replace(\"make upin\", \"makeup\")\n",
    "    elif \"make upnya\" in text:\n",
    "        return text.replace(\"make upnya\", \"makeup\")\n",
    "    elif \"make-up\" in text:\n",
    "        return text.replace(\"make-up\", \"makeup\")\n",
    "    elif \"dimakeup\" in text:\n",
    "        return text.replace(\"dimakeup\", \"makeup\")\n",
    "    elif \"dimakeupin\" in text:\n",
    "        return text.replace(\"dimakeupin\", \"makeup\")\n",
    "    elif \"makeupnya\" in text:\n",
    "        return text.replace(\"makeupnya\", \"makeup\")\n",
    "    elif \"makeupny\" in text:\n",
    "        return text.replace(\"makeupny\", \"makeup\")\n",
    "    elif \"makeupku\" in text:\n",
    "        return text.replace(\"makeupku\", \"makeup\")\n",
    "    elif \"mekap\" in text:\n",
    "        return text.replace(\"mekap\", \"makeup\")\n",
    "    elif \"makeuonya\" in text:\n",
    "        return text.replace(\"makeuonya\", \"makeup\")\n",
    "    else:\n",
    "        return text"
   ]
  },
  {
   "cell_type": "code",
   "execution_count": 12,
   "id": "e9e9d4af",
   "metadata": {},
   "outputs": [],
   "source": [
    "# Fungsi untuk menyamakan kata tzone dalam kalimat\n",
    "def t_zone_replace(text):\n",
    "    if \"t zone\" in text:\n",
    "        return text.replace(\"t zone\", \"tzone\")\n",
    "    elif \"t z\" in text:\n",
    "        return text.replace(\"t z\", \"tzone\")\n",
    "    elif \"t zonenya\" in text:\n",
    "        return text.replace(\"t zonenya\", \"tzone\")\n",
    "    else:\n",
    "        return text"
   ]
  },
  {
   "cell_type": "code",
   "execution_count": 13,
   "id": "e5c42588",
   "metadata": {},
   "outputs": [],
   "source": [
    "# Fungsi untuk menyamakan kata bbceam dalam kalimat\n",
    "def bb_cream_replace(text):\n",
    "    if \"bb cream\" in text:\n",
    "        return text.replace(\"bb cream\", \"bbcream\")\n",
    "    else:\n",
    "        return text    "
   ]
  },
  {
   "cell_type": "code",
   "execution_count": 14,
   "id": "ead633e3",
   "metadata": {},
   "outputs": [],
   "source": [
    "# Fungsi untuk menyamakan kata cccream dalam kalimat\n",
    "def cc_cream_replace(text):\n",
    "    if \"cc cream\" in text:\n",
    "        return text.replace(\"cc cream\", \"cccream\")\n",
    "    else:\n",
    "        return text    "
   ]
  },
  {
   "cell_type": "code",
   "execution_count": 15,
   "id": "9398e3fd",
   "metadata": {},
   "outputs": [],
   "source": [
    "# Fungsi untuk menyamakan kata dceram dalam kalimat\n",
    "def dd_cream_replace(text):\n",
    "    if \"dd cream\" in text:\n",
    "        return text.replace(\"dd cream\", \"ddcream\")\n",
    "    else:\n",
    "        return text    "
   ]
  },
  {
   "cell_type": "code",
   "execution_count": 16,
   "id": "a9c168be",
   "metadata": {},
   "outputs": [],
   "source": [
    "# Fungsi untuk menyamakan kata touchup dalam kalimat\n",
    "def touch_up_replace(text):\n",
    "    if \"touch up\" in text:\n",
    "        return text.replace(\"touch up\", \"touchup\")\n",
    "    elif \"ngeretouch\" in text:\n",
    "        return text.replace(\"ngeretouch\", \"touchup\")\n",
    "    else:\n",
    "        return text"
   ]
  },
  {
   "cell_type": "code",
   "execution_count": 17,
   "id": "c68af31c",
   "metadata": {},
   "outputs": [],
   "source": [
    "# Fungsi untuk menyamakan kata breakout dalam kalimat\n",
    "def break_out_replace(text):\n",
    "    if \"break out\" in text:\n",
    "        return text.replace(\"break out\", \"breakout\")\n",
    "    else:\n",
    "        return text"
   ]
  },
  {
   "cell_type": "code",
   "execution_count": 18,
   "id": "6f19e90b",
   "metadata": {},
   "outputs": [],
   "source": [
    "# Fungsi untuk menyamakan kata skincare dalam kalimat\n",
    "def skin_care_replace(text):\n",
    "    if \"skin care\" in text:\n",
    "        return text.replace(\"skin care\", \"skincare\")\n",
    "    else:\n",
    "        return text"
   ]
  },
  {
   "cell_type": "code",
   "execution_count": 19,
   "id": "3aad9ba7",
   "metadata": {},
   "outputs": [],
   "source": [
    "# Fungsi untuk menyamakan kata sunscreen dalam kalimat\n",
    "def sun_screen_replace(text):\n",
    "    if \"sun screen\" in text:\n",
    "        return text.replace(\"sun screen\", \"sunscreen\")\n",
    "    elif \"sunscreenku\" in text:\n",
    "        return text.replace(\"sunscreenku\", \"sunscreen\")\n",
    "    else:\n",
    "        return text"
   ]
  },
  {
   "cell_type": "code",
   "execution_count": 20,
   "id": "e3b1a5ea",
   "metadata": {},
   "outputs": [],
   "source": [
    "# Fungsi untuk mengubah seluruh karakter dalam kalimat menjadi huruf kecil (lowercase)\n",
    "def case_folding(message):\n",
    "    return message.lower()"
   ]
  },
  {
   "cell_type": "code",
   "execution_count": 21,
   "id": "cc3029ff",
   "metadata": {},
   "outputs": [],
   "source": [
    "# Fungsi untuk menghapus tanda baca dalam kalimat\n",
    "def del_punctuation(message):\n",
    "    for punc in string.punctuation:\n",
    "        if punc in message:\n",
    "            message = message.replace(punc, ' ')\n",
    "    return message"
   ]
  },
  {
   "cell_type": "code",
   "execution_count": 22,
   "id": "c2bf573b",
   "metadata": {},
   "outputs": [],
   "source": [
    "# Fungsi untuk menghapus angka dalam kalimat\n",
    "def del_number(message):\n",
    "    regex = r'\\d+'\n",
    "    return ' '.join(re.sub(regex, \"\", message).split())"
   ]
  },
  {
   "cell_type": "code",
   "execution_count": 23,
   "id": "50315990",
   "metadata": {},
   "outputs": [],
   "source": [
    "# Fungsi untuk menghapus emotikon dalam kalimat\n",
    "def del_emoticon(message):\n",
    "    return emoji.replace_emoji(message, replace=' ')"
   ]
  },
  {
   "cell_type": "code",
   "execution_count": 24,
   "id": "5905acb6",
   "metadata": {},
   "outputs": [],
   "source": [
    "# Fungsi untuk menghapus kata dengan jumlah huruf yang lebih dari satu dan berdekatan \n",
    "def remove_repeated_char(text):\n",
    "    return re.sub(r'(\\w)\\1+', r'\\1', text)"
   ]
  },
  {
   "cell_type": "code",
   "execution_count": 25,
   "id": "fbbfc732",
   "metadata": {},
   "outputs": [],
   "source": [
    "# Fungsi untuk mengubah kata yang menggunakan angka untuk membuat kata berulang\n",
    "def replace_repeat_word_num(message):\n",
    "    split_msg = [word.replace(word, extract_word_number(word)) for word in message.split()]\n",
    "    return \" \".join(split_msg)"
   ]
  },
  {
   "cell_type": "code",
   "execution_count": 26,
   "id": "c9db3bb5",
   "metadata": {},
   "outputs": [],
   "source": [
    "# Fungsi untuk mengubah kata yang menggunakan angka dalam bentuk superscript untuk membuat kata berulang\n",
    "def replace_repeat_word_superscript(message):\n",
    "    split_msg = [word.replace(word, extract_word_superscript(word)) for word in message.split()]\n",
    "    return \" \".join(split_msg)"
   ]
  },
  {
   "cell_type": "code",
   "execution_count": 27,
   "id": "96bd30d0",
   "metadata": {},
   "outputs": [],
   "source": [
    "# Fungsi untuk mengubah kata yang memiliki karakter yang sama dan berdekatan dengan jumlah lebih dari satu dalam kalimat\n",
    "def normalisasi_kata_redundan(message):\n",
    "    return remove_repeated_char(message)"
   ]
  },
  {
   "cell_type": "code",
   "execution_count": 28,
   "id": "3665df35",
   "metadata": {},
   "outputs": [],
   "source": [
    "# Memuat Daftar kata dengan jumlah huruf yang sama lebih dari satu dan berdekatan\n",
    "reader_kata_dua_karakter = csv.reader(open(r\"D:/Bagoes/Jupyter/Data/kata_dua_karakter.csv\", \"r\"))\n",
    "\n",
    "dict_kata_dua_karakter = {row[0]:row[1] for row in reader_kata_dua_karakter if row and row[0]}"
   ]
  },
  {
   "cell_type": "code",
   "execution_count": 29,
   "id": "35920057",
   "metadata": {},
   "outputs": [],
   "source": [
    "# Memuat daftar kata istilah asing yang tediri dari satu kata\n",
    "reader_satu_kata = csv.reader(open(r\"D:/Bagoes/Jupyter/Data/translasi_satu_kata.csv\", \"r\"))\n",
    "\n",
    "dict_translasi_satu_kata = {row[0]:row[1] for row in reader_satu_kata if row and row[0]}"
   ]
  },
  {
   "cell_type": "code",
   "execution_count": 30,
   "id": "87e50270",
   "metadata": {},
   "outputs": [],
   "source": [
    "# Memuat daftar kalimat dengan istilah asing\n",
    "reader_lebih_satu_kata = csv.reader(open(r\"D:/Bagoes/Jupyter/Data/translasi_lebih_satu_kata.csv\", \"r\"))\n",
    "\n",
    "result_lebih_satu_kata = {row[0]:row[1] for row in reader_lebih_satu_kata if row and row[0]}\n",
    "\n",
    "# Mengurutkan daftar kalimat istilah asing sesuai dengan panjang kalimat\n",
    "\n",
    "# sorting using sorted()\n",
    "# lambda fnc. to render logic \n",
    "list_lebih_satu_kata = sorted(list(result_lebih_satu_kata.items()), key = lambda key : len(key[0]), reverse=True)\n",
    "\n",
    "# reordering corpus dictionary translasi bahasa lebih satu kata\n",
    "dict_lebih_satu_kata = {val[0] : val[1] for val in list_lebih_satu_kata}"
   ]
  },
  {
   "cell_type": "code",
   "execution_count": 31,
   "id": "e3d5d42e",
   "metadata": {},
   "outputs": [],
   "source": [
    "# Memuat daftar kata bahasa alay\n",
    "df_kamus_bahasa_alay = pd.read_csv(\"colloquial-indonesian-lexicon.csv\")\n",
    "\n",
    "# Membuat Kamus Bahasa Alay\n",
    "list_kata_slang = []\n",
    "\n",
    "for kata_slang in df_kamus_bahasa_alay[\"slang\"]:\n",
    "    list_kata_slang.append(kata_slang)\n",
    "\n",
    "list_kata_formal = []\n",
    "\n",
    "for kata_formal in df_kamus_bahasa_alay[\"formal\"]:\n",
    "    list_kata_formal.append(kata_formal)\n",
    "\n",
    "dict_bahasa_alay = {}\n",
    "\n",
    "for key, value in zip(df_kamus_bahasa_alay[\"slang\"], df_kamus_bahasa_alay[\"formal\"]):\n",
    "    if dict_bahasa_alay.get(key) == None:\n",
    "        dict_bahasa_alay.update({key:value})"
   ]
  },
  {
   "cell_type": "code",
   "execution_count": 32,
   "id": "daf8f3a2",
   "metadata": {},
   "outputs": [],
   "source": [
    "# Memuat daftar kata yang mengandung typo (salah dalam penulisan)\n",
    "reader_koreksi_kata = csv.reader(open(r\"D:/Bagoes/Jupyter/Data/koreksi_kata.csv\", \"r\"))\n",
    "\n",
    "dict_koreksi_kata = {row[0]:row[1] for row in reader_koreksi_kata if row and row[0]}"
   ]
  },
  {
   "cell_type": "code",
   "execution_count": 33,
   "id": "9855bc8a",
   "metadata": {},
   "outputs": [],
   "source": [
    "# Memuat daftar kata yang merupakan stopwords (kata redundan)\n",
    "factory = StopWordRemoverFactory()\n",
    "stopwords_indonesia = factory.get_stop_words()"
   ]
  },
  {
   "cell_type": "code",
   "execution_count": 34,
   "id": "f7960d08",
   "metadata": {},
   "outputs": [],
   "source": [
    "# Fungsi untuk memeriksa apakah token terdapat dalam daftar kata dengan dua karakter yang sama berjumlah lebih dari satu dan berdekatan\n",
    "def check_kata_dua_karakter(text):\n",
    "    for key, val in dict_kata_dua_karakter.items():\n",
    "        if text == key:\n",
    "            text = text.replace(text, dict_kata_dua_karakter.get(key))\n",
    "    return text"
   ]
  },
  {
   "cell_type": "code",
   "execution_count": 35,
   "id": "8c351d6a",
   "metadata": {},
   "outputs": [],
   "source": [
    "# Fungsi untuk memeriksa apakah token terdapat dalam daftar kata yang akan di translasi\n",
    "def check_translasi_satu_kata(text):\n",
    "    for key, val in dict_translasi_satu_kata.items():\n",
    "        if text == key:\n",
    "            text = text.replace(text, dict_translasi_satu_kata.get(key))\n",
    "    return text"
   ]
  },
  {
   "cell_type": "code",
   "execution_count": 36,
   "id": "e3b1f3ea",
   "metadata": {},
   "outputs": [],
   "source": [
    "# Fungsi untuk memeriksa apakah token terdapat dalam daftar kata yang memiliki typo (salah penulisan)\n",
    "def check_koreksi_kata(text):\n",
    "    for key, val in dict_koreksi_kata.items():\n",
    "        if text == key:\n",
    "            text = text.replace(text, dict_koreksi_kata.get(key))\n",
    "    return text"
   ]
  },
  {
   "cell_type": "code",
   "execution_count": 37,
   "id": "1c271b68",
   "metadata": {},
   "outputs": [],
   "source": [
    "# Fungsi untuk memeriksa apakah token terdapat dalam daftar kata slang (alay)\n",
    "def check_kata_alay(text):\n",
    "    for key, val in dict_bahasa_alay.items():\n",
    "        if text == key:\n",
    "            text = text.replace(text, dict_bahasa_alay.get(key))\n",
    "    return text"
   ]
  },
  {
   "cell_type": "code",
   "execution_count": 38,
   "id": "f232b032",
   "metadata": {},
   "outputs": [],
   "source": [
    "# Fungsi untuk melakukan normalisasi kalimat menggunakan daftar kata dengan dua karakter yang sama berjumlah lebih dari satu dan berdekatan\n",
    "def normalisasi_kata_dua_karakter(message):\n",
    "    split_text = [check_kata_dua_karakter(text) for text in message.split()]\n",
    "    return \" \".join(split_text)"
   ]
  },
  {
   "cell_type": "code",
   "execution_count": 39,
   "id": "041bce62",
   "metadata": {},
   "outputs": [],
   "source": [
    "# Fungsi untuk melakukan normalisasi kalimat menggunakan daftar kalimat yang akan di translasi\n",
    "def normalisasi_translasi_kalimat(message):\n",
    "    for key, val in dict_lebih_satu_kata.items():\n",
    "        if key in message:\n",
    "            message = message.replace(key, dict_lebih_satu_kata.get(key))\n",
    "    return message  "
   ]
  },
  {
   "cell_type": "code",
   "execution_count": 40,
   "id": "c6abe27d",
   "metadata": {},
   "outputs": [],
   "source": [
    "# Fungsi untuk melakukan normalisasi kalimat menggunakan daftar kata yang akan di translasi\n",
    "def normalisasi_translasi_kata(message):\n",
    "    split_text = [check_translasi_satu_kata(text) for text in message.split()]\n",
    "    return \" \".join(split_text)"
   ]
  },
  {
   "cell_type": "code",
   "execution_count": 41,
   "id": "deafa4d7",
   "metadata": {},
   "outputs": [],
   "source": [
    "# Fungsi untuk melakukan normalisasi kalimat menggunakan daftar kata yang memiliki typo (salah penulisan)\n",
    "def normalisasi_koreksi_kata(message):\n",
    "    split_text = [check_koreksi_kata(text) for text in message.split()]\n",
    "    return \" \".join(split_text)"
   ]
  },
  {
   "cell_type": "code",
   "execution_count": 42,
   "id": "922f4e0f",
   "metadata": {},
   "outputs": [],
   "source": [
    "# Fungsi untuk melakukan normalisasi kalimat menggunakan daftar kata slang (alay)\n",
    "def normalisasi_kata_alay(message):\n",
    "    split_text = [check_kata_alay(text) for text in message.split()]\n",
    "    return \" \".join(split_text)"
   ]
  },
  {
   "cell_type": "code",
   "execution_count": 43,
   "id": "53c6c336",
   "metadata": {},
   "outputs": [],
   "source": [
    "# Fungsi untuk menghapus stopwords menggunakan daftar stopwords\n",
    "def del_stopwords(message):\n",
    "    split_text = [text for text in message.split() if text not in stopwords_indonesia]\n",
    "    return \" \".join(split_text)"
   ]
  },
  {
   "cell_type": "code",
   "execution_count": 44,
   "id": "0451a877",
   "metadata": {},
   "outputs": [],
   "source": [
    "# Memuat Stemmer\n",
    "stem_factory = StemmerFactory()\n",
    "stemmer = stem_factory.create_stemmer()\n",
    "\n",
    "# Fungsi untuk melakukan stemming\n",
    "def stem_words(message):\n",
    "    split_text = [stemmer.stem(text) for text in message.split()]\n",
    "    return \" \".join(split_text)"
   ]
  },
  {
   "cell_type": "code",
   "execution_count": 45,
   "id": "403a39f1",
   "metadata": {},
   "outputs": [],
   "source": [
    "# Membuat mapping untuk label data\n",
    "label = {'positif' : 1, 'negatif' : 2}"
   ]
  },
  {
   "cell_type": "code",
   "execution_count": 46,
   "id": "dcedebae",
   "metadata": {},
   "outputs": [
    {
     "data": {
      "text/plain": [
       "array(['positif', 'negatif'], dtype=object)"
      ]
     },
     "execution_count": 46,
     "metadata": {},
     "output_type": "execute_result"
    }
   ],
   "source": [
    "df_data[\"sentimen\"].unique()"
   ]
  },
  {
   "cell_type": "code",
   "execution_count": 47,
   "id": "72d62ca1",
   "metadata": {},
   "outputs": [],
   "source": [
    "# Melakukan tahapan preprocessing\n",
    "# 1. Case Folding\n",
    "df_data['review'] = df_data['review'].apply(case_folding)\n",
    "# 2. Delete Punctuation\n",
    "df_data['review'] = df_data['review'].apply(del_punctuation)\n",
    "# 3. Delete Emoticon\n",
    "df_data['review'] = df_data['review'].apply(del_emoticon)\n",
    "# 4. Normalisasi Kata Makeup\n",
    "df_data['review'] = df_data['review'].apply(make_up_replace)\n",
    "# 5. Normalisasi Kata TZone\n",
    "df_data['review'] = df_data['review'].apply(t_zone_replace)\n",
    "# 6. Normalisasi Kata BBCream\n",
    "df_data['review'] = df_data['review'].apply(bb_cream_replace)\n",
    "# 7. Normalisasi Kata CCCream\n",
    "df_data['review'] = df_data['review'].apply(cc_cream_replace)\n",
    "# 8. Normalisasi Kata DDCream\n",
    "df_data['review'] = df_data['review'].apply(dd_cream_replace)\n",
    "# 9. Normalisasi Kata Touchup\n",
    "df_data['review'] = df_data['review'].apply(touch_up_replace)\n",
    "# 10. Normalisasi Kata Breakout\n",
    "df_data['review'] = df_data['review'].apply(break_out_replace)\n",
    "# 11. Normalisasi Kata Skin Care\n",
    "df_data['review'] = df_data['review'].apply(skin_care_replace)\n",
    "# 12. Normalisasi Kata Sun Screen\n",
    "df_data['review'] = df_data['review'].apply(sun_screen_replace)\n",
    "# 13. Normalisasi Kata Berulang Dengan Angka\n",
    "df_data['review'] = df_data['review'].apply(replace_repeat_word_num)\n",
    "# 14. Normalisasi Kata Berulang Dengan Angka (Superscript)\n",
    "df_data['review'] = df_data['review'].apply(replace_repeat_word_superscript)\n",
    "# 15. Delete Number\n",
    "df_data['review'] = df_data['review'].apply(del_number)\n",
    "# 16. Normalisasi Kata Dua Karakter Berjumlah Lebih Dari Satu dan Berdekatan\n",
    "df_data['review'] = df_data['review'].apply(remove_repeated_char)\n",
    "df_data['review'] = df_data['review'].apply(normalisasi_kata_dua_karakter)\n",
    "# 17. Normalisasi Translasi Kalimat\n",
    "df_data['review'] = df_data['review'].apply(normalisasi_translasi_kalimat)\n",
    "# 18. Normalisasi Translasi Kata\n",
    "df_data['review'] = df_data['review'].apply(normalisasi_translasi_kata)\n",
    "# 19. Normalisasi Koreksi Kata\n",
    "df_data['review'] = df_data['review'].apply(normalisasi_koreksi_kata)\n",
    "# 20. Normalisasi Kata Slang (Alay)\n",
    "df_data['review'] = df_data['review'].apply(normalisasi_kata_alay)\n",
    "# 21. Delete Stopwords\n",
    "df_data['review'] = df_data['review'].apply(del_stopwords)\n",
    "# 22. Normalisasi Kata (Stemming)\n",
    "df_data['review'] = df_data['review'].apply(stem_words)\n",
    "# 23. Normalisasi Label Data\n",
    "df_data[\"sentimen\"] = df_data[\"sentimen\"].map(label)"
   ]
  },
  {
   "cell_type": "code",
   "execution_count": 48,
   "id": "d57e82d0",
   "metadata": {},
   "outputs": [
    {
     "name": "stdout",
     "output_type": "stream",
     "text": [
      "pori 4583\n",
      "pakai 2885\n",
      "banget 1828\n",
      "primer 1750\n",
      "sih 1529\n",
      "minyak 1478\n",
      "bikin 1399\n",
      "kulit 1393\n",
      "makeup 1268\n",
      "muka 1059\n"
     ]
    }
   ],
   "source": [
    "def get_top_n_bigram(corpus, n=None):\n",
    "    vec = CountVectorizer().fit(corpus)\n",
    "    bag_of_words = vec.transform(corpus)\n",
    "    sum_words = bag_of_words.sum(axis=0)\n",
    "    words_freq = [(word, sum_words[0, idx]) for word, idx in vec.vocabulary_.items()]\n",
    "    words_freq = sorted(words_freq, key= lambda x: x[1], reverse=True)\n",
    "    return words_freq[:n]\n",
    "\n",
    "common_words = get_top_n_bigram(df_data['review'], 10)\n",
    "for word, freq in common_words:\n",
    "    print(word, freq)\n",
    "df_after_stopwords = pd.DataFrame(common_words, columns = ['review', 'count'])"
   ]
  },
  {
   "cell_type": "code",
   "execution_count": 49,
   "id": "02f7c9ad",
   "metadata": {},
   "outputs": [
    {
     "data": {
      "image/png": "[encoded data removed]",
      "text/plain": [
       "<Figure size 1008x1008 with 1 Axes>"
      ]
     },
     "metadata": {},
     "output_type": "display_data"
    }
   ],
   "source": [
    "plt.style.use('ggplot')\n",
    "fig, ax = plt.subplots(figsize=(14, 14))\n",
    "sns.barplot(x='review', y='count', data=df_after_stopwords)\n",
    "ax.set_title('10 Kata Teratas - Setelah Menghapus Stopwords')\n",
    "plt.savefig(\"10_kata_teratas_setelah_stopwords.png\", bbox_inches=\"tight\", dpi=480)\n",
    "plt.show()"
   ]
  },
  {
   "cell_type": "code",
   "execution_count": 50,
   "id": "1d2b0cd3",
   "metadata": {},
   "outputs": [],
   "source": [
    "df_data_aksen = pd.read_excel(\"Data_Scraping_FemaleDaily_06032022_with_index.xlsx\")"
   ]
  },
  {
   "cell_type": "code",
   "execution_count": 51,
   "id": "1a84ade1",
   "metadata": {},
   "outputs": [],
   "source": [
    "df_data_aksen.drop(index=[41, 82, 119, 139, 199, 213, 216, 236, 243, 276, 278, 317, 351, 379, 407, 444, 608, 707, 886, 945, 946, 1047, 1052, 1076, 1099, 1101, 1126, 1133, 1135, 1149, 1155, 1279, 1419, 1506, 1522, 1535, 1573, 1591, 1611, 1664, 1689, 1725, 1736, 1745, 1756, 1821, 1851, 1870, 1890, 1894, 1906, 1907, 1922, 1956, 1985, 1998, 2141, 2170, 2194, 2197, 2241, 2249, 2258], inplace=True)"
   ]
  },
  {
   "cell_type": "code",
   "execution_count": 52,
   "id": "3832586d",
   "metadata": {},
   "outputs": [
    {
     "name": "stdout",
     "output_type": "stream",
     "text": [
      "ini 3199\n",
      "aku 2990\n",
      "pori 2434\n",
      "dan 2349\n",
      "di 1935\n",
      "primer 1683\n",
      "jadi 1502\n",
      "ga 1370\n",
      "bikin 1359\n",
      "yang 1344\n"
     ]
    }
   ],
   "source": [
    "before_stopwords = get_top_n_bigram(df_data_aksen['review'], 10)\n",
    "for word, freq in before_stopwords:\n",
    "    print(word, freq)\n",
    "df_before_stopwords = pd.DataFrame(before_stopwords, columns=['review', 'count'])"
   ]
  },
  {
   "cell_type": "code",
   "execution_count": 53,
   "id": "8e264638",
   "metadata": {},
   "outputs": [
    {
     "data": {
      "image/png": "[encoded data removed]",
      "text/plain": [
       "<Figure size 1008x1008 with 1 Axes>"
      ]
     },
     "metadata": {},
     "output_type": "display_data"
    }
   ],
   "source": [
    "plt.style.use('ggplot')\n",
    "fig, ax = plt.subplots(figsize=(14,14))\n",
    "sns.barplot(x='review', y='count', data=df_before_stopwords)\n",
    "ax.set_title('10 Kata Teratas Sebelum Menghapus Stopwords')\n",
    "plt.savefig(\"10_kata_teratas_sebelum_stopwords.png\", bbox_inches=\"tight\", dpi=480)\n",
    "plt.show()"
   ]
  },
  {
   "cell_type": "code",
   "execution_count": null,
   "id": "9ea893ab",
   "metadata": {},
   "outputs": [],
   "source": []
  }
 ],
 "metadata": {
  "kernelspec": {
   "display_name": "Python 3 (ipykernel)",
   "language": "python",
   "name": "python3"
  },
  "language_info": {
   "codemirror_mode": {
    "name": "ipython",
    "version": 3
   },
   "file_extension": ".py",
   "mimetype": "text/x-python",
   "name": "python",
   "nbconvert_exporter": "python",
   "pygments_lexer": "ipython3",
   "version": "3.8.10"
  }
 },
 "nbformat": 4,
 "nbformat_minor": 5
}
